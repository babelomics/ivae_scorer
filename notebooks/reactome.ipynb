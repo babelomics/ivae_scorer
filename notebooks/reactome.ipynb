{
 "cells": [
  {
   "cell_type": "code",
   "execution_count": null,
   "metadata": {},
   "outputs": [],
   "source": [
    "# https://www.sc-best-practices.org/conditions/gsea_pathway.html#id380\n",
    "# Kang HM, Subramaniam M, Targ S, et al. Multiplexed droplet single-cell RNA-sequencing using natural genetic variation\n",
    "#   Nat Biotechnol. 2020 Nov;38(11):1356]. Nat Biotechnol. 2018;36(1):89-94. doi:10.1038/nbt.4042"
   ]
  },
  {
   "cell_type": "code",
   "execution_count": null,
   "metadata": {},
   "outputs": [],
   "source": [
    "%load_ext autoreload\n",
    "%autoreload 2\n",
    "\n",
    "import scanpy as sc\n",
    "import tensorflow as tf\n",
    "from tensorflow.keras.models import Model\n",
    "from ivae_scorer.datasets import load_kang\n",
    "from tensorflow.keras import callbacks\n",
    "from ivae_scorer.utils import set_all_seeds\n",
    "from ivae_scorer.bio import get_reactome_adj\n",
    "from ivae_scorer.bio import sync_gexp_adj\n",
    "from sklearn.model_selection import train_test_split\n",
    "from sklearn.preprocessing import minmax_scale\n",
    "import matplotlib.pyplot as plt\n",
    "import seaborn as sns\n",
    "import dotenv\n",
    "from pathlib import Path\n",
    "\n",
    "project_path = Path(dotenv.find_dotenv()).parent\n",
    "results_path = project_path.joinpath(\"results\")\n",
    "results_path.mkdir(exist_ok=True, parents=True)\n",
    "data_path = project_path.joinpath(\"data\")\n",
    "data_path.mkdir(exist_ok=True, parents=True)\n",
    "figs_path = results_path.joinpath(\"figs\")\n",
    "figs_path.mkdir(exist_ok=True, parents=True)\n",
    "tables_path = results_path.joinpath(\"tables\")\n",
    "tables_path.mkdir(exist_ok=True, parents=True)\n",
    "\n",
    "set_all_seeds(seed=42)\n",
    "\n",
    "tf.config.experimental.enable_op_determinism()\n",
    "\n",
    "sc.set_figure_params(dpi=300, color_map=\"viridis\")\n",
    "sc.settings.verbosity = 1\n",
    "sc.logging.print_header()"
   ]
  },
  {
   "cell_type": "code",
   "execution_count": null,
   "metadata": {},
   "outputs": [],
   "source": [
    "adata = load_kang(data_folder=data_path, normalize=True, n_genes=4000)"
   ]
  },
  {
   "cell_type": "code",
   "execution_count": null,
   "metadata": {},
   "outputs": [],
   "source": [
    "x_trans = adata.to_df()"
   ]
  },
  {
   "cell_type": "code",
   "execution_count": null,
   "metadata": {},
   "outputs": [],
   "source": [
    "reactome = get_reactome_adj()\n",
    "\n",
    "reactome.head()"
   ]
  },
  {
   "cell_type": "code",
   "execution_count": null,
   "metadata": {},
   "outputs": [],
   "source": [
    "x_trans, reactome = sync_gexp_adj(x_trans, reactome)"
   ]
  },
  {
   "cell_type": "code",
   "execution_count": null,
   "metadata": {},
   "outputs": [],
   "source": [
    "x_trans.shape, reactome.shape"
   ]
  },
  {
   "cell_type": "code",
   "execution_count": null,
   "metadata": {},
   "outputs": [],
   "source": [
    "obs = adata.obs.copy()\n",
    "\n",
    "x_train, x_test = train_test_split(\n",
    "    x_trans.apply(minmax_scale),\n",
    "    test_size=0.33,\n",
    "    stratify=obs[\"cell_type\"],\n",
    "    random_state=42,\n",
    ")\n",
    "x_train = x_train.astype(\"float32\")\n",
    "x_test = x_test.astype(\"float32\")"
   ]
  },
  {
   "cell_type": "code",
   "execution_count": null,
   "metadata": {},
   "outputs": [],
   "source": [
    "x_train.shape, reactome.shape"
   ]
  },
  {
   "cell_type": "code",
   "execution_count": null,
   "metadata": {},
   "outputs": [],
   "source": [
    "from ivae_scorer.models import build_reactome_vae\n",
    "\n",
    "vae, encoder, decoder = build_reactome_vae(reactome)"
   ]
  },
  {
   "cell_type": "code",
   "execution_count": null,
   "metadata": {},
   "outputs": [],
   "source": [
    "batch_size = 32\n",
    "\n",
    "callback = callbacks.EarlyStopping(\n",
    "    monitor=\"val_loss\",  # Stop training when `val_loss` is no longer improving\n",
    "    min_delta=1e-1,  # \"no longer improving\" being defined as \"no better than 1e-5 less\"\n",
    "    patience=30,  # \"no longer improving\" being further defined as \"for at least 3 epochs\"\n",
    "    verbose=0,\n",
    ")\n",
    "\n",
    "history = vae.fit(\n",
    "    x_train.values,\n",
    "    shuffle=True,\n",
    "    verbose=0,\n",
    "    epochs=100,\n",
    "    batch_size=batch_size,\n",
    "    callbacks=[callback],\n",
    "    validation_data=(x_test.values, None),\n",
    ")"
   ]
  },
  {
   "cell_type": "code",
   "execution_count": null,
   "metadata": {},
   "outputs": [],
   "source": [
    "with sns.plotting_context(\"paper\"):\n",
    "    history.history.keys()\n",
    "    # summarize history for loss\n",
    "    plt.figure(figsize=(2, 2))\n",
    "    plt.plot(history.history[\"loss\"])\n",
    "    plt.plot(history.history[\"val_loss\"])\n",
    "    plt.title(\"model loss\")\n",
    "    plt.ylabel(\"loss\")\n",
    "    plt.xlabel(\"epoch\")\n",
    "    plt.legend([\"train\", \"val\"], loc=\"upper right\")"
   ]
  },
  {
   "cell_type": "code",
   "execution_count": null,
   "metadata": {},
   "outputs": [],
   "source": [
    "import pandas as pd\n",
    "\n",
    "x_train_encoded = encoder.predict(x_train, batch_size=batch_size)[0]\n",
    "x_train_encoded = pd.DataFrame(x_train_encoded, index=x_train.index)\n",
    "\n",
    "adata = sc.AnnData(X=x_train_encoded)\n",
    "adata.obs = obs.loc[x_train.index]\n",
    "\n",
    "# sc.pp.log1p(adata)\n",
    "sc.pp.neighbors(adata, use_rep=\"X\")\n",
    "sc.tl.leiden(adata)\n",
    "sc.tl.umap(adata)"
   ]
  },
  {
   "cell_type": "code",
   "execution_count": null,
   "metadata": {},
   "outputs": [],
   "source": [
    "layer_outputs = [layer.output for layer in encoder.layers]\n",
    "activation_model = Model(inputs=encoder.input, outputs=layer_outputs)"
   ]
  },
  {
   "cell_type": "code",
   "execution_count": null,
   "metadata": {},
   "outputs": [],
   "source": [
    "# circuit activity extracted from first layer\n",
    "layer_id = 1\n",
    "\n",
    "entitie_names = reactome.columns.str.replace(\"REACTOME_\", \"\").str.replace(\"_\", \" \")\n",
    "# circuit_names = circuit_to_pathway_adj.rename(columns=pathway_renamer).columns\n",
    "\n",
    "x_train_encoded = activation_model.predict(x_train, batch_size=batch_size)[layer_id]\n",
    "x_train_encoded = pd.DataFrame(\n",
    "    x_train_encoded, index=x_train.index, columns=entitie_names\n",
    ")\n",
    "\n",
    "entities_adata = sc.AnnData(X=x_train_encoded.abs())\n",
    "entities_adata.obs = obs.loc[x_train.index]\n",
    "\n",
    "# sc.pp.log1p(adata)\n",
    "sc.pp.neighbors(entities_adata, use_rep=\"X\")\n",
    "sc.tl.leiden(entities_adata)\n",
    "sc.tl.umap(entities_adata)"
   ]
  },
  {
   "cell_type": "code",
   "execution_count": null,
   "metadata": {},
   "outputs": [],
   "source": [
    "method = \"wilcoxon\"\n",
    "sc.tl.rank_genes_groups(\n",
    "    entities_adata, \"condition\", refrence=\"control\", key_added=method, method=method\n",
    ")\n",
    "\n",
    "result = entities_adata.uns[method]\n",
    "groups = [\"stimulated\"]\n",
    "dacs = pd.DataFrame(\n",
    "    {\n",
    "        group + \"_\" + key: result[key][group]\n",
    "        for group in groups\n",
    "        for key in [\"names\", \"scores\", \"pvals\", \"pvals_adj\", \"logfoldchanges\"]\n",
    "    }\n",
    ")\n",
    "\n",
    "dacs.head(10)"
   ]
  },
  {
   "cell_type": "code",
   "execution_count": null,
   "metadata": {},
   "outputs": [],
   "source": [
    "dacs_to_write = dacs.head(10).copy()\n",
    "dacs_to_write.columns = dacs_to_write.columns.str.replace(\"stimulated_\", \"\")\n",
    "dacs_to_write = dacs_to_write.rename(columns={\"names\": \"pathways\"})\n",
    "dacs_to_write[\"pathways\"] = dacs_to_write[\"pathways\"].str.title()\n",
    "dacs_to_write = dacs_to_write.drop(\"pvals\", axis=1)\n",
    "dacs_to_write[\"pathways\"] = dacs_to_write[\"pathways\"].str.replace(\n",
    "    \"Alpha Beta\", r\"$\\alpha, \\beta$\"\n",
    ")\n",
    "dacs_to_write[\"pathways\"] = dacs_to_write[\"pathways\"].str.replace(\"Ifn\", \"IFN\")\n",
    "dacs_to_write[\"pathways\"] = dacs_to_write[\"pathways\"].str.replace(\"Adn\", \"ADN\")\n",
    "dacs_to_write[\"pathways\"] = dacs_to_write[\"pathways\"].str.replace(\"Oas\", \"OAS\")\n",
    "dacs_to_write[\"pathways\"] = dacs_to_write[\"pathways\"].str.replace(\"Ddx58\", \"DDX58\")\n",
    "dacs_to_write[\"pathways\"] = dacs_to_write[\"pathways\"].str.replace(\"Ns1\", \"NS1\")\n",
    "dacs_to_write[\"pathways\"] = dacs_to_write[\"pathways\"].str.replace(\"Ifih1\", \"IFIH1 \")\n",
    "dacs_to_write.to_latex(\n",
    "    tables_path.joinpath(\"ivae_scorer_reactome.tex\"),\n",
    "    float_format=\"%.2f\",\n",
    "    index=False,\n",
    "    escape=True,\n",
    ")"
   ]
  },
  {
   "cell_type": "code",
   "execution_count": null,
   "metadata": {},
   "outputs": [],
   "source": [
    "dacs_top = dacs[\"stimulated_names\"][:10]\n",
    "dacs_top = dacs_top[dacs_top.str.contains(\"interferon|ifn\", case=False)]\n",
    "dacs_top"
   ]
  },
  {
   "cell_type": "code",
   "execution_count": null,
   "metadata": {},
   "outputs": [],
   "source": [
    "adata.obsm[\"pathways\"] = x_train_encoded.abs()\n",
    "adata.obs[dacs_top] = adata.obsm[\"pathways\"][dacs_top]"
   ]
  },
  {
   "cell_type": "code",
   "execution_count": null,
   "metadata": {},
   "outputs": [],
   "source": [
    "sc.pl.umap(\n",
    "    adata,\n",
    "    color=[\"condition\", \"cell_type\"],\n",
    "    frameon=False,\n",
    "    ncols=2,\n",
    "    wspace=0.3,\n",
    "    show=False,\n",
    ")\n",
    "\n",
    "plt.savefig(figs_path.joinpath(\"ivae_scorer_reactome_latent.pdf\"), bbox_inches=\"tight\")\n",
    "\n",
    "sc.pl.umap(adata, color=dacs_top, frameon=False, ncols=4, wspace=0.3, show=False)\n",
    "\n",
    "plt.savefig(\n",
    "    figs_path.joinpath(\"ivae_scorer_reactome_activity.pdf\"), bbox_inches=\"tight\"\n",
    ")\n",
    "\n",
    "sc.pl.umap(\n",
    "    adata,\n",
    "    color=[\"condition\", \"cell_type\"] + dacs_top.tolist(),\n",
    "    frameon=False,\n",
    "    ncols=2,\n",
    "    wspace=0.3,\n",
    "    show=False,\n",
    ")\n",
    "\n",
    "plt.savefig(figs_path.joinpath(\"ivae_scorer_reactome_ifn.pdf\"), bbox_inches=\"tight\")"
   ]
  },
  {
   "cell_type": "code",
   "execution_count": null,
   "metadata": {},
   "outputs": [],
   "source": [
    "q = entitie_names.str.contains(\n",
    "    \"influenza infection|hiv infection|SARS COV 2 INFECTION|hcmv infection\", case=False\n",
    ")\n",
    "ifn_circuits = entitie_names[q].tolist()\n",
    "adata.obs[ifn_circuits] = adata.obsm[\"pathways\"][ifn_circuits]\n",
    "\n",
    "sc.pl.umap(\n",
    "    adata,\n",
    "    color=[\"condition\", \"cell_type\"],\n",
    "    frameon=False,\n",
    "    ncols=2,\n",
    "    wspace=0.3,\n",
    "    show=False,\n",
    ")\n",
    "\n",
    "plt.savefig(\n",
    "    figs_path.joinpath(\"ivae_scorer_reactome_infection_latent.pdf\"), bbox_inches=\"tight\"\n",
    ")\n",
    "\n",
    "\n",
    "sc.pl.umap(adata, color=ifn_circuits, frameon=False, ncols=4, wspace=0.3, show=False)\n",
    "\n",
    "plt.savefig(\n",
    "    figs_path.joinpath(\"ivae_scorer_reactome_infection_activity.pdf\"),\n",
    "    bbox_inches=\"tight\",\n",
    ")\n",
    "\n",
    "sc.pl.umap(\n",
    "    adata,\n",
    "    color=[\"condition\", \"cell_type\"] + ifn_circuits,\n",
    "    frameon=False,\n",
    "    ncols=2,\n",
    "    wspace=0.3,\n",
    "    show=False,\n",
    ")\n",
    "\n",
    "plt.savefig(\n",
    "    figs_path.joinpath(\"ivae_scorer_reactome_infection_all.pdf\"),\n",
    "    bbox_inches=\"tight\",\n",
    ")"
   ]
  },
  {
   "cell_type": "code",
   "execution_count": null,
   "metadata": {},
   "outputs": [],
   "source": [
    "adata.obs[[\"condition\", \"cell_type\", \"INFLUENZA INFECTION\"]].groupby([\"cell_type\"])[\n",
    "    \"INFLUENZA INFECTION\"\n",
    "].mean().sort_values()"
   ]
  },
  {
   "cell_type": "code",
   "execution_count": null,
   "metadata": {},
   "outputs": [],
   "source": []
  }
 ],
 "metadata": {
  "kernelspec": {
   "display_name": "Python 3 (ipykernel)",
   "language": "python",
   "name": "python3"
  },
  "language_info": {
   "codemirror_mode": {
    "name": "ipython",
    "version": 3
   },
   "file_extension": ".py",
   "mimetype": "text/x-python",
   "name": "python",
   "nbconvert_exporter": "python",
   "pygments_lexer": "ipython3",
   "version": "3.10.8"
  },
  "vscode": {
   "interpreter": {
    "hash": "3b4651b61dd9046e4bae09ab0c22b4cc207f37f5591f1d5dbc867d81958be0f9"
   }
  }
 },
 "nbformat": 4,
 "nbformat_minor": 4
}
